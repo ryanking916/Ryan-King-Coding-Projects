{
  "nbformat": 4,
  "nbformat_minor": 0,
  "metadata": {
    "colab": {
      "provenance": []
    },
    "kernelspec": {
      "name": "python3",
      "display_name": "Python 3"
    },
    "language_info": {
      "name": "python"
    }
  },
  "cells": [
    {
      "cell_type": "markdown",
      "source": [
        "# Atlanta Hawks Assessment"
      ],
      "metadata": {
        "id": "0dQqUT_4fFKs"
      }
    },
    {
      "cell_type": "code",
      "source": [
        "# Importing all necessary comments\n",
        "import warnings\n",
        "warnings.filterwarnings('ignore')\n",
        "\n",
        "import pandas as pd\n",
        "import numpy as np\n",
        "\n",
        "from plotnine import *\n",
        "from tabulate import tabulate\n",
        "!pip install colorama\n",
        "from colorama import Fore"
      ],
      "metadata": {
        "id": "uqJ57P1lfuJx",
        "colab": {
          "base_uri": "https://localhost:8080/"
        },
        "outputId": "2a703dd3-5d41-4f61-d774-87d12364bcff"
      },
      "execution_count": 1,
      "outputs": [
        {
          "output_type": "stream",
          "name": "stdout",
          "text": [
            "Looking in indexes: https://pypi.org/simple, https://us-python.pkg.dev/colab-wheels/public/simple/\n",
            "Collecting colorama\n",
            "  Downloading colorama-0.4.6-py2.py3-none-any.whl (25 kB)\n",
            "Installing collected packages: colorama\n",
            "Successfully installed colorama-0.4.6\n"
          ]
        }
      ]
    },
    {
      "cell_type": "code",
      "execution_count": 2,
      "metadata": {
        "id": "acLaV_IbeC5C"
      },
      "outputs": [],
      "source": [
        "# Loading dataset\n",
        "nba_draft = pd.read_csv(\"https://raw.githubusercontent.com/ryanking916/Data/main/nbaplayersdraft.csv\")"
      ]
    },
    {
      "cell_type": "markdown",
      "source": [
        "## **Part 1: Data Comprehension**"
      ],
      "metadata": {
        "id": "3S7nMIQvgA5g"
      }
    },
    {
      "cell_type": "markdown",
      "source": [
        "### (A) Which NBA team(s) has drafted the most players who...\n",
        "**a. Went to Duke and were drafted in or before the 2000 draft?**\n",
        "\n",
        "\n",
        "\n"
      ],
      "metadata": {
        "id": "fvMVUMFqgG3I"
      }
    },
    {
      "cell_type": "code",
      "source": [
        "# This code block determines the teams that have drafted the most players who went to Duke and were drafted in or before the 2000 draft\n",
        "\n",
        "# Filters the dataset and selects players that meet the requirements\n",
        "duke_players = nba_draft[(nba_draft['college'] == 'Duke') & (nba_draft['year'] <= 2000)]\n",
        "\n",
        "teams = duke_players.groupby(['team']).size().reset_index(name='Count')\n",
        "\n",
        "# Finds the max count of these specific players among all teams\n",
        "max = teams['Count'].max()\n",
        "\n",
        "# Puts the teams with the max number of these into a list\n",
        "teams_with_max = teams[teams['Count'] == max].index.tolist()\n",
        "\n",
        "# Print the results\n",
        "print(\"The NBA teams that have drafted the most players who went to Duke and were drafted in or before the 2000 draft were: \")\n",
        "for i in teams_with_max:\n",
        "  print(teams['team'][i])"
      ],
      "metadata": {
        "colab": {
          "base_uri": "https://localhost:8080/"
        },
        "id": "_mx_1EYVgRGY",
        "outputId": "f1c38e64-e0ad-48bf-bdba-02a6f08ac417"
      },
      "execution_count": 3,
      "outputs": [
        {
          "output_type": "stream",
          "name": "stdout",
          "text": [
            "The NBA teams that have drafted the most players who went to Duke and were drafted in or before the 2000 draft were: \n",
            "DAL\n",
            "MIN\n",
            "PHO\n"
          ]
        }
      ]
    },
    {
      "cell_type": "markdown",
      "source": [
        "**b. Have a first name that begins with D and were drafted in an even year draft?**"
      ],
      "metadata": {
        "id": "R3U87qChveAN"
      }
    },
    {
      "cell_type": "code",
      "source": [
        "# This code block determines the NBA teams who have drafted the most players with a first name that begins with D and were drafted in an even year\n",
        "\n",
        "# Filters the dataset and selects player with first name starting with D and that were drafted in even year\n",
        "players = (nba_draft.loc[(nba_draft['player'].str[0] == 'D') & (nba_draft['year'] % 2 == 0)])\n",
        "\n",
        "teams = players.groupby(['team']).size().reset_index(name='Count')\n",
        "\n",
        "# Finds the max count of these specific players among all teams\n",
        "max = teams['Count'].max()\n",
        "\n",
        "# Put these teams with the max count in a list\n",
        "teams_with_max = teams[teams['Count'] == max].index.tolist()\n",
        "\n",
        "# Print the results\n",
        "print(\"The NBA teams that have drafted the most players who have a first name that begins with D and were drafted in an even year draft were: \")\n",
        "for i in teams_with_max:\n",
        "  print(teams['team'][i])"
      ],
      "metadata": {
        "colab": {
          "base_uri": "https://localhost:8080/"
        },
        "id": "KrxbCrKAvhE2",
        "outputId": "ef2f7a59-9f89-421e-adfd-0fdc29e015a2"
      },
      "execution_count": 4,
      "outputs": [
        {
          "output_type": "stream",
          "name": "stdout",
          "text": [
            "The NBA teams that have drafted the most players who have a first name that begins with D and were drafted in an even year draft were: \n",
            "BOS\n",
            "MIL\n",
            "SEA\n"
          ]
        }
      ]
    },
    {
      "cell_type": "markdown",
      "source": [
        "### (B) Describe the relationship between a team's first round pick slot in one year with their first-round pick slot in the subsequent year"
      ],
      "metadata": {
        "id": "YBzK7NCD8HsC"
      }
    },
    {
      "cell_type": "code",
      "source": [
        "# This function determines what round the player was drafted in. Takes a overall pick and year as parameters\n",
        "def round_determiner(pick_num, year_num):\n",
        "  if (year_num >= 1989 and year_num <= 1994) and (pick_num >= 1 and pick_num <= 27):\n",
        "    return 1\n",
        "  elif (year_num >= 1995 and year_num <= 2004) and (pick_num >= 1 and pick_num <= 29):\n",
        "    return 1\n",
        "  elif (year_num >= 2005 and year_num <= 2021) and (pick_num >= 1 and pick_num <= 30):\n",
        "    return 1\n",
        "  else:\n",
        "    return 2\n",
        "\n",
        "# This calls the function above for each overall pick in the dataset\n",
        "nba_draft['Round'] = nba_draft.apply(lambda row: round_determiner(row['overall_pick'], row['year']), axis = 1)\n",
        "\n",
        "# Determines the first round picks\n",
        "first_round_slots = nba_draft[['year', 'overall_pick', 'Round', 'team']]\n",
        "first_round_slots = first_round_slots[first_round_slots['Round'] == 1]\n",
        "\n",
        "# Groups the data by team and year then calculates average draft pick slot\n",
        "team_pick_slots = first_round_slots.groupby(['team', 'year']).mean()['overall_pick'].reset_index()\n",
        "\n",
        "# Creates a new column to represent the subsequent year pick for each team\n",
        "team_pick_slots['Subsequent_Year_Pick'] = team_pick_slots.groupby('team')['overall_pick'].shift(-1)\n",
        "\n",
        "# Calculates the correlation coefficient between a team's first round pick slot in one year and their first round pick slot in the next year\n",
        "correlation = team_pick_slots['overall_pick'].corr(team_pick_slots['Subsequent_Year_Pick'])\n",
        "\n",
        "# Print the results\n",
        "print(\"The Correlation Coefficient between a team's first-round pick slot in one year and their first round pick slot in the subsequent year is \")\n",
        "print(round(correlation, 3))\n"
      ],
      "metadata": {
        "colab": {
          "base_uri": "https://localhost:8080/"
        },
        "id": "v3YfBQK0-7Ae",
        "outputId": "0ca550fe-fb88-4320-81b7-99990054a742"
      },
      "execution_count": 5,
      "outputs": [
        {
          "output_type": "stream",
          "name": "stdout",
          "text": [
            "The Correlation Coefficient between a team's first-round pick slot in one year and their first round pick slot in the subsequent year is \n",
            "0.419\n"
          ]
        }
      ]
    },
    {
      "cell_type": "markdown",
      "source": [
        "A correlation coefficient of 0.419 indicates that there is a positive correlation between the two variables. Having a positive correlation in this situation means that as the first-round slot in one year increases, the first-round pick slot in the next year also tends to increase. However, the correlation coefficient value of 0.419 is fairly moderate in strength, which means there is a relationship between the two variables, but it is not a strong relationship. There are likely other factors that contribute to a team's draft position in subsequent years. In actual terms, this positive correlation suggests that teams with higher first-round pick slots in one year are more likely to have higher pick slots in the next year. This could be due to factors like trades, free agent signings, team performance, or draft techniques employed by the teams."
      ],
      "metadata": {
        "id": "K5QVU-eqPMye"
      }
    },
    {
      "cell_type": "markdown",
      "source": [
        "## **Part 2: Analytical Acumen**"
      ],
      "metadata": {
        "id": "mlV7DpVu8zGj"
      }
    },
    {
      "cell_type": "markdown",
      "source": [
        "### (A) Prompt: Analyze draft position value and team success/deficiencies compared to expectation.\n",
        "**a. Create a method for valuing each draft slot in the NBA Draft (picks 1 through 60 in most drafts)**"
      ],
      "metadata": {
        "id": "ke5T8eafHa-k"
      }
    },
    {
      "cell_type": "code",
      "source": [
        "# Getting rid of values that do not contain necessary performance metrics\n",
        "columns = ['value_over_replacement', 'win_shares', 'box_plus_minus']\n",
        "nba_draft = nba_draft.dropna(subset=columns)"
      ],
      "metadata": {
        "id": "AGgFJIUzjaA_"
      },
      "execution_count": 6,
      "outputs": []
    },
    {
      "cell_type": "code",
      "source": [
        "# This is a function for assigning a value to each draft slot from a given dataset\n",
        "def valuing_draft_slots(draft_data):\n",
        "  vor_weight = (1/3.0)\n",
        "  ws_weight = (1/3.0)\n",
        "  bpm_weight = (1/3.0)\n",
        "\n",
        "  # Create a dictionary to store the draft position values\n",
        "  draft_values = {}\n",
        "\n",
        "  # Iterate through the nba_draft dataset\n",
        "  for pick in range(1,61):\n",
        "      pick_numbers = draft_data[(draft_data['year'] >= 1989) & (draft_data['year'] <= 2021) & (draft_data['overall_pick'] == pick)]\n",
        "\n",
        "      slot_value = (pick_numbers['value_over_replacement'].mean() * vor_weight) + (pick_numbers['win_shares'].mean() * ws_weight) + (pick_numbers['box_plus_minus'].mean() * bpm_weight)\n",
        "\n",
        "    # Assign the calculated value to the draft position in the draft_values dictionary\n",
        "      draft_values[pick] = slot_value\n",
        "\n",
        "  return draft_values\n",
        "\n",
        "draft_slot_values = valuing_draft_slots(nba_draft)\n",
        "\n",
        "new_df = pd.DataFrame({'Draft Pick': list(draft_slot_values.keys()), 'Value': list(draft_slot_values.values())})\n",
        "\n",
        "# Printing the table\n",
        "ggplot(new_df, aes(x='Draft Pick', y='Value')) + \\\n",
        "    geom_bar(stat='identity', fill='steelblue') + \\\n",
        "    theme_minimal() + labs(x='Draft Slot', y='Value', title='Draft Slot Values')\n",
        "\n",
        "\n",
        "\n"
      ],
      "metadata": {
        "colab": {
          "base_uri": "https://localhost:8080/",
          "height": 503
        },
        "id": "zKjFj8C5SbQk",
        "outputId": "ccc16ca1-dda3-4180-feef-0c8c39c4ebc7"
      },
      "execution_count": 7,
      "outputs": [
        {
          "output_type": "display_data",
          "data": {
            "text/plain": [
              "<Figure size 640x480 with 1 Axes>"
            ],
            "image/png": "[encoded data removed]"
          },
          "metadata": {
            "needs_background": "light"
          }
        },
        {
          "output_type": "execute_result",
          "data": {
            "text/plain": [
              "<ggplot: (8731821428764)>"
            ]
          },
          "metadata": {},
          "execution_count": 7
        }
      ]
    },
    {
      "cell_type": "markdown",
      "source": [
        "**b. Conditional on the expected value of the draft positions, which NBA teams have over or underperformed the most when drafting during this time span. \n",
        "Which College Teams have had the players outperform expectations the most after entering the NBA?**"
      ],
      "metadata": {
        "id": "OmG_ttWNIAMj"
      }
    },
    {
      "cell_type": "code",
      "source": [
        "# This code block assesses an NBA teams performance and compares it to the draft position value from the previous question\n",
        "nba_team_performance = {}\n",
        "\n",
        "# Iterate over the draft data\n",
        "for _, player in nba_draft.iterrows():\n",
        "    team = player['team']\n",
        "    draft_position = player['overall_pick']\n",
        "    actual_performance = (player['value_over_replacement'] * (1/3.0)) + (player['win_shares'] * (1/3.0)) + (player['box_plus_minus'] * (1/3.0))\n",
        "\n",
        "    # Calculate the expected value for the draft position given what was found in previous question\n",
        "    expected_value = draft_slot_values[draft_position]\n",
        "\n",
        "    # Calculate the performance difference\n",
        "    performance_difference = actual_performance - expected_value\n",
        "\n",
        "    # Update the performance metrics for NBA teams\n",
        "    if team in nba_team_performance:\n",
        "        nba_team_performance[team].append(performance_difference)\n",
        "    else:\n",
        "        nba_team_performance[team] = [performance_difference]\n",
        "\n",
        "# Calculate the average performance difference for each NBA team\n",
        "average_performance_diff = {}\n",
        "for team, performance_diff_list in nba_team_performance.items():\n",
        "    average_diff = sum(performance_diff_list) / len(performance_diff_list)\n",
        "    average_performance_diff[team] = average_diff\n",
        "\n",
        "# Calculate the overall average performance difference\n",
        "overall_average_diff = sum(average_performance_diff.values()) / len(average_performance_diff)\n",
        "\n",
        "# Sort the teams based on the difference from the overall average\n",
        "overperforming_teams = sorted(average_performance_diff, key=lambda x: average_performance_diff[x] - overall_average_diff, reverse=True)\n",
        "underperforming_teams = sorted(average_performance_diff, key=lambda x: average_performance_diff[x] - overall_average_diff)\n",
        "\n",
        "# Create a list of table rows color coded with team names and performance differences\n",
        "table_data_overperforming = []\n",
        "table_data_underperforming = []\n",
        "for team in overperforming_teams:\n",
        "    diff = average_performance_diff[team] - overall_average_diff\n",
        "    if diff > 0:\n",
        "        table_data_overperforming.append([Fore.BLUE + team + Fore.RESET, f\"{diff:.3f}\"])\n",
        "\n",
        "for team in underperforming_teams:\n",
        "    diff = average_performance_diff[team] - overall_average_diff\n",
        "    if diff < 0:\n",
        "        table_data_underperforming.append([Fore.RED + team + Fore.RESET, f\"{diff:.3f}\"])\n",
        "\n",
        "# Sort the table data based on the performance difference from greatest to least\n",
        "table_data_overperforming.sort(key=lambda x: float(x[1]), reverse=True)\n",
        "table_data_underperforming.sort(key=lambda x: float(x[1]), reverse=True)\n",
        "title = \"Overperforming NBA Teams\"\n",
        "\n",
        "# Print the table\n",
        "headers_op = [\"Overperforming NBA Teams\", \"Performance Difference\"]\n",
        "headers_up = [\"Underperforming NBA Teams\", \"Performance Difference\"]\n",
        "\n",
        "print(tabulate(table_data_overperforming, headers=headers_op, tablefmt=\"fancy grid\"))\n",
        "print()\n",
        "print(tabulate(table_data_underperforming, headers=headers_up, tablefmt=\"fancy grid\"))"
      ],
      "metadata": {
        "colab": {
          "base_uri": "https://localhost:8080/"
        },
        "id": "cRiX_SNz1ZNE",
        "outputId": "e9eec213-1192-44b0-c5cf-baf3573051ff"
      },
      "execution_count": 16,
      "outputs": [
        {
          "output_type": "stream",
          "name": "stdout",
          "text": [
            "Overperforming NBA Teams      Performance Difference\n",
            "--------------------------  ------------------------\n",
            "\u001b[34mNOH\u001b[39m                                           11.296\n",
            "\u001b[34mSEA\u001b[39m                                            6.443\n",
            "\u001b[34mSAS\u001b[39m                                            4.605\n",
            "\u001b[34mCHH\u001b[39m                                            2.425\n",
            "\u001b[34mCLE\u001b[39m                                            1.745\n",
            "\u001b[34mIND\u001b[39m                                            1.653\n",
            "\u001b[34mTOR\u001b[39m                                            1.624\n",
            "\u001b[34mHOU\u001b[39m                                            1.615\n",
            "\u001b[34mGSW\u001b[39m                                            1.465\n",
            "\u001b[34mLAL\u001b[39m                                            1.445\n",
            "\u001b[34mDEN\u001b[39m                                            1.412\n",
            "\u001b[34mMIL\u001b[39m                                            0.852\n",
            "\u001b[34mDET\u001b[39m                                            0.381\n",
            "\u001b[34mMEM\u001b[39m                                            0.229\n",
            "\u001b[34mMIA\u001b[39m                                            0.137\n",
            "\u001b[34mPHO\u001b[39m                                            0.111\n",
            "\u001b[34mUTA\u001b[39m                                            0.102\n",
            "\u001b[34mWSB\u001b[39m                                            0.01\n",
            "\n",
            "Underperforming NBA Teams      Performance Difference\n",
            "---------------------------  ------------------------\n",
            "\u001b[31mOKC\u001b[39m                                            -0.024\n",
            "\u001b[31mNJN\u001b[39m                                            -0.037\n",
            "\u001b[31mBOS\u001b[39m                                            -0.078\n",
            "\u001b[31mBRK\u001b[39m                                            -0.697\n",
            "\u001b[31mMIN\u001b[39m                                            -0.712\n",
            "\u001b[31mCHI\u001b[39m                                            -0.74\n",
            "\u001b[31mPOR\u001b[39m                                            -0.906\n",
            "\u001b[31mORL\u001b[39m                                            -0.912\n",
            "\u001b[31mPHI\u001b[39m                                            -1.066\n",
            "\u001b[31mVAN\u001b[39m                                            -1.218\n",
            "\u001b[31mNYK\u001b[39m                                            -1.246\n",
            "\u001b[31mSAC\u001b[39m                                            -1.293\n",
            "\u001b[31mATL\u001b[39m                                            -1.381\n",
            "\u001b[31mCHA\u001b[39m                                            -1.523\n",
            "\u001b[31mLAC\u001b[39m                                            -1.905\n",
            "\u001b[31mDAL\u001b[39m                                            -2.017\n",
            "\u001b[31mWAS\u001b[39m                                            -3.19\n",
            "\u001b[31mCHO\u001b[39m                                            -5.159\n",
            "\u001b[31mNOP\u001b[39m                                            -5.667\n",
            "\u001b[31mNOK\u001b[39m                                            -7.78\n"
          ]
        }
      ]
    },
    {
      "cell_type": "code",
      "source": [
        "# This code block determines which college teams have had players outperform expectations most after entering the NBA\n",
        "college_performance_diff = {}\n",
        "\n",
        "# Iterate over the draft data\n",
        "for _, player in nba_draft.iterrows():\n",
        "    college_team = player['college']\n",
        "    actual_performance = (player['value_over_replacement'] * (1/3.0)) + (player['win_shares'] * (1/3.0)) + (player['box_plus_minus'] * (1/3.0))\n",
        "\n",
        "    # Calculate the expected value based on draft position\n",
        "    draft_position = player['overall_pick']\n",
        "    expected_value = draft_slot_values[draft_position]\n",
        "\n",
        "    # Calculate the performance difference\n",
        "    performance_difference = actual_performance - expected_value\n",
        "\n",
        "    # Update the performance metrics for college teams\n",
        "    if college_team in college_performance_diff:\n",
        "        college_performance_diff[college_team].append(performance_difference)\n",
        "    else:\n",
        "        college_performance_diff[college_team] = [performance_difference]\n",
        "\n",
        "# Create a dictionary to store average performance difference for every college team\n",
        "average_performance_diff = {}\n",
        "\n",
        "# Calculate average difference for each college team in the dataset\n",
        "for college_team, performance_diff_list in college_performance_diff.items():\n",
        "    average_diff = sum(performance_diff_list) / len(performance_diff_list)\n",
        "    average_performance_diff[college_team] = average_diff\n",
        "\n",
        "# Sort the teams based on the performance difference they have\n",
        "sorted_college_teams = sorted(average_performance_diff, key=lambda x: average_performance_diff[x] - overall_average_diff, reverse=True)\n",
        "\n",
        "# Creating a table to store the data found\n",
        "table_data = []\n",
        "\n",
        "for i, college_team in enumerate(sorted_college_teams[:25], start=1):\n",
        "    diff = average_performance_diff[college_team] - overall_average_diff\n",
        "    table_data.append([i, college_team, f\"{diff:.3f}\"])\n",
        "\n",
        "# Print the table\n",
        "headers = [\"Rank\", \"College Team\", \"Performance Metric\"]\n",
        "print(tabulate(table_data, headers=headers, tablefmt=\"fancy grid\"))\n"
      ],
      "metadata": {
        "colab": {
          "base_uri": "https://localhost:8080/"
        },
        "id": "fxmRdACIAkS0",
        "outputId": "0eea2a50-1189-443b-d304-410472de4248"
      },
      "execution_count": 11,
      "outputs": [
        {
          "output_type": "stream",
          "name": "stdout",
          "text": [
            "  Rank  College Team                           Performance Metric\n",
            "------  -----------------------------------  --------------------\n",
            "     1  Santa Clara                                        50.972\n",
            "     2  Davidson                                           50.414\n",
            "     3  Trinity Valley CC                                  29.334\n",
            "     4  IUPUI                                              23.465\n",
            "     5  Louisiana Tech                                     20.124\n",
            "     6  Weber State                                        19.906\n",
            "     7  Wake Forest                                        17.174\n",
            "     8  Rhode Island                                       16.226\n",
            "     9  Saint Mary's                                       15.786\n",
            "    10  Little Rock                                        15.152\n",
            "    11  Miami University                                   14.115\n",
            "    12  Butler County Community College                    13.227\n",
            "    13  Morehead State University                          11.831\n",
            "    14  Jacksonville University                            10.403\n",
            "    15  Texas State University                             10.241\n",
            "    16  Oregon State                                       10.048\n",
            "    17  Marshall                                            9.962\n",
            "    18  University of Hartford                              8.922\n",
            "    19  Western Carolina University                         8.186\n",
            "    20  Texas A&M                                           7.979\n",
            "    21  Texas-El Paso                                       7.861\n",
            "    22  Norfolk State                                       7.711\n",
            "    23  Drexel                                              7.221\n",
            "    24  Marquette                                           6.909\n",
            "    25  Southern University and A&M College                 6.561\n"
          ]
        }
      ]
    },
    {
      "cell_type": "markdown",
      "source": [
        "**c. Explain and present your findings with tables and visuals. What additional research areas would you focus on if given the opportunity to expand this study?**"
      ],
      "metadata": {
        "id": "rSAwpMKpMYmk"
      }
    },
    {
      "cell_type": "markdown",
      "source": [
        "The tables and visuals are displayed above. A more detailed analysis of these findings can be found in the final report. \n"
      ],
      "metadata": {
        "id": "UDqHBfRhMfaY"
      }
    },
    {
      "cell_type": "markdown",
      "source": [
        "Some additional research areas I would focus on if given the opportunity I would complete a more thorough examination of why certain NBA teams are having more success when it comes to drafting than others. There could be many factors that affect their success so it would be interesting to identify those and see how they impact the upcoming NBA draft. Another area that draws my interest is to evaluate how a teams overall success correlates with the quality of players drafted over the time period in the dataset. This could reveal draft trends and strategies that produce better team performance outcomes. It also allows me to explore whether certain teams are consistently drafting players with specific skill sets or from particular colleges, and we can see if these techniques are working for the teams."
      ],
      "metadata": {
        "id": "LkKGNuJDM_Tr"
      }
    },
    {
      "cell_type": "code",
      "source": [
        "# List of Resources\n",
        "\n",
        "# 1. https://pypi.org/project/tabulate/\n",
        "# 2. https://www.datacamp.com/tutorial/pandas-apply\n",
        "# 3. https://www.datacamp.com/tutorial/role-underscore-python\n",
        "# 4. https://www.geeksforgeeks.org/pandas-dataframe-iterrows-function-in-python/\n"
      ],
      "metadata": {
        "id": "cXLvDLv_qnQA"
      },
      "execution_count": 1,
      "outputs": []
    }
  ]
}